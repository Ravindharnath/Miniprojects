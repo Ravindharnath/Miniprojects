{
  "nbformat": 4,
  "nbformat_minor": 0,
  "metadata": {
    "colab": {
      "provenance": [],
      "include_colab_link": true
    },
    "kernelspec": {
      "name": "python3",
      "display_name": "Python 3"
    },
    "language_info": {
      "name": "python"
    }
  },
  "cells": [
    {
      "cell_type": "markdown",
      "metadata": {
        "id": "view-in-github",
        "colab_type": "text"
      },
      "source": [
        "<a href=\"https://colab.research.google.com/github/Ravindharnath/Miniprojects/blob/main/Mini_project_1_HR.ipynb\" target=\"_parent\"><img src=\"https://colab.research.google.com/assets/colab-badge.svg\" alt=\"Open In Colab\"/></a>"
      ]
    },
    {
      "cell_type": "code",
      "execution_count": null,
      "metadata": {
        "id": "w5bEFfNvphWB"
      },
      "outputs": [],
      "source": [
        "import csv\n",
        "import re\n",
        "import traceback\n",
        "from tabulate import tabulate\n",
        "import pandas as pd\n",
        "import numpy as np\n",
        "import datetime\n",
        "import matplotlib.pyplot as plt\n",
        "import seaborn as sns\n",
        "from datetime import datetime\n",
        "from IPython.core.interactiveshell import InteractiveShell # Capitalize 'I' in 'IPython'\n",
        "InteractiveShell.ast_node_interactivity = \"all\""
      ]
    },
    {
      "cell_type": "code",
      "source": [
        "import pandas as pd\n",
        "df = pd.read_csv(\"/content/Copy of HR_comma_sep.csv\")\n",
        "df.head(5)"
      ],
      "metadata": {
        "colab": {
          "base_uri": "https://localhost:8080/",
          "height": 226
        },
        "id": "EpU240z4Wsr6",
        "outputId": "4e959f69-1fc2-470a-d316-7489a19c1a53"
      },
      "execution_count": null,
      "outputs": [
        {
          "output_type": "execute_result",
          "data": {
            "text/plain": [
              "   satisfaction_level  last_evaluation  number_project  average_montly_hours  \\\n",
              "0                0.38             0.53               2                   157   \n",
              "1                0.80             0.86               5                   262   \n",
              "2                0.11             0.88               7                   272   \n",
              "3                0.72             0.87               5                   223   \n",
              "4                0.37             0.52               2                   159   \n",
              "\n",
              "   time_spend_company  Work_accident  left  promotion_last_5years  sales  \\\n",
              "0                   3              0     1                      0  sales   \n",
              "1                   6              0     1                      0  sales   \n",
              "2                   4              0     1                      0  sales   \n",
              "3                   5              0     1                      0  sales   \n",
              "4                   3              0     1                      0  sales   \n",
              "\n",
              "   salary  \n",
              "0     low  \n",
              "1  medium  \n",
              "2  medium  \n",
              "3     low  \n",
              "4     low  "
            ],
            "text/html": [
              "\n",
              "  <div id=\"df-253bb9a4-f897-40dd-84f3-2e56166a00a9\" class=\"colab-df-container\">\n",
              "    <div>\n",
              "<style scoped>\n",
              "    .dataframe tbody tr th:only-of-type {\n",
              "        vertical-align: middle;\n",
              "    }\n",
              "\n",
              "    .dataframe tbody tr th {\n",
              "        vertical-align: top;\n",
              "    }\n",
              "\n",
              "    .dataframe thead th {\n",
              "        text-align: right;\n",
              "    }\n",
              "</style>\n",
              "<table border=\"1\" class=\"dataframe\">\n",
              "  <thead>\n",
              "    <tr style=\"text-align: right;\">\n",
              "      <th></th>\n",
              "      <th>satisfaction_level</th>\n",
              "      <th>last_evaluation</th>\n",
              "      <th>number_project</th>\n",
              "      <th>average_montly_hours</th>\n",
              "      <th>time_spend_company</th>\n",
              "      <th>Work_accident</th>\n",
              "      <th>left</th>\n",
              "      <th>promotion_last_5years</th>\n",
              "      <th>sales</th>\n",
              "      <th>salary</th>\n",
              "    </tr>\n",
              "  </thead>\n",
              "  <tbody>\n",
              "    <tr>\n",
              "      <th>0</th>\n",
              "      <td>0.38</td>\n",
              "      <td>0.53</td>\n",
              "      <td>2</td>\n",
              "      <td>157</td>\n",
              "      <td>3</td>\n",
              "      <td>0</td>\n",
              "      <td>1</td>\n",
              "      <td>0</td>\n",
              "      <td>sales</td>\n",
              "      <td>low</td>\n",
              "    </tr>\n",
              "    <tr>\n",
              "      <th>1</th>\n",
              "      <td>0.80</td>\n",
              "      <td>0.86</td>\n",
              "      <td>5</td>\n",
              "      <td>262</td>\n",
              "      <td>6</td>\n",
              "      <td>0</td>\n",
              "      <td>1</td>\n",
              "      <td>0</td>\n",
              "      <td>sales</td>\n",
              "      <td>medium</td>\n",
              "    </tr>\n",
              "    <tr>\n",
              "      <th>2</th>\n",
              "      <td>0.11</td>\n",
              "      <td>0.88</td>\n",
              "      <td>7</td>\n",
              "      <td>272</td>\n",
              "      <td>4</td>\n",
              "      <td>0</td>\n",
              "      <td>1</td>\n",
              "      <td>0</td>\n",
              "      <td>sales</td>\n",
              "      <td>medium</td>\n",
              "    </tr>\n",
              "    <tr>\n",
              "      <th>3</th>\n",
              "      <td>0.72</td>\n",
              "      <td>0.87</td>\n",
              "      <td>5</td>\n",
              "      <td>223</td>\n",
              "      <td>5</td>\n",
              "      <td>0</td>\n",
              "      <td>1</td>\n",
              "      <td>0</td>\n",
              "      <td>sales</td>\n",
              "      <td>low</td>\n",
              "    </tr>\n",
              "    <tr>\n",
              "      <th>4</th>\n",
              "      <td>0.37</td>\n",
              "      <td>0.52</td>\n",
              "      <td>2</td>\n",
              "      <td>159</td>\n",
              "      <td>3</td>\n",
              "      <td>0</td>\n",
              "      <td>1</td>\n",
              "      <td>0</td>\n",
              "      <td>sales</td>\n",
              "      <td>low</td>\n",
              "    </tr>\n",
              "  </tbody>\n",
              "</table>\n",
              "</div>\n",
              "    <div class=\"colab-df-buttons\">\n",
              "\n",
              "  <div class=\"colab-df-container\">\n",
              "    <button class=\"colab-df-convert\" onclick=\"convertToInteractive('df-253bb9a4-f897-40dd-84f3-2e56166a00a9')\"\n",
              "            title=\"Convert this dataframe to an interactive table.\"\n",
              "            style=\"display:none;\">\n",
              "\n",
              "  <svg xmlns=\"http://www.w3.org/2000/svg\" height=\"24px\" viewBox=\"0 -960 960 960\">\n",
              "    <path d=\"M120-120v-720h720v720H120Zm60-500h600v-160H180v160Zm220 220h160v-160H400v160Zm0 220h160v-160H400v160ZM180-400h160v-160H180v160Zm440 0h160v-160H620v160ZM180-180h160v-160H180v160Zm440 0h160v-160H620v160Z\"/>\n",
              "  </svg>\n",
              "    </button>\n",
              "\n",
              "  <style>\n",
              "    .colab-df-container {\n",
              "      display:flex;\n",
              "      gap: 12px;\n",
              "    }\n",
              "\n",
              "    .colab-df-convert {\n",
              "      background-color: #E8F0FE;\n",
              "      border: none;\n",
              "      border-radius: 50%;\n",
              "      cursor: pointer;\n",
              "      display: none;\n",
              "      fill: #1967D2;\n",
              "      height: 32px;\n",
              "      padding: 0 0 0 0;\n",
              "      width: 32px;\n",
              "    }\n",
              "\n",
              "    .colab-df-convert:hover {\n",
              "      background-color: #E2EBFA;\n",
              "      box-shadow: 0px 1px 2px rgba(60, 64, 67, 0.3), 0px 1px 3px 1px rgba(60, 64, 67, 0.15);\n",
              "      fill: #174EA6;\n",
              "    }\n",
              "\n",
              "    .colab-df-buttons div {\n",
              "      margin-bottom: 4px;\n",
              "    }\n",
              "\n",
              "    [theme=dark] .colab-df-convert {\n",
              "      background-color: #3B4455;\n",
              "      fill: #D2E3FC;\n",
              "    }\n",
              "\n",
              "    [theme=dark] .colab-df-convert:hover {\n",
              "      background-color: #434B5C;\n",
              "      box-shadow: 0px 1px 3px 1px rgba(0, 0, 0, 0.15);\n",
              "      filter: drop-shadow(0px 1px 2px rgba(0, 0, 0, 0.3));\n",
              "      fill: #FFFFFF;\n",
              "    }\n",
              "  </style>\n",
              "\n",
              "    <script>\n",
              "      const buttonEl =\n",
              "        document.querySelector('#df-253bb9a4-f897-40dd-84f3-2e56166a00a9 button.colab-df-convert');\n",
              "      buttonEl.style.display =\n",
              "        google.colab.kernel.accessAllowed ? 'block' : 'none';\n",
              "\n",
              "      async function convertToInteractive(key) {\n",
              "        const element = document.querySelector('#df-253bb9a4-f897-40dd-84f3-2e56166a00a9');\n",
              "        const dataTable =\n",
              "          await google.colab.kernel.invokeFunction('convertToInteractive',\n",
              "                                                    [key], {});\n",
              "        if (!dataTable) return;\n",
              "\n",
              "        const docLinkHtml = 'Like what you see? Visit the ' +\n",
              "          '<a target=\"_blank\" href=https://colab.research.google.com/notebooks/data_table.ipynb>data table notebook</a>'\n",
              "          + ' to learn more about interactive tables.';\n",
              "        element.innerHTML = '';\n",
              "        dataTable['output_type'] = 'display_data';\n",
              "        await google.colab.output.renderOutput(dataTable, element);\n",
              "        const docLink = document.createElement('div');\n",
              "        docLink.innerHTML = docLinkHtml;\n",
              "        element.appendChild(docLink);\n",
              "      }\n",
              "    </script>\n",
              "  </div>\n",
              "\n",
              "\n",
              "<div id=\"df-4b07b624-b4d2-4f45-be59-40bef50b5877\">\n",
              "  <button class=\"colab-df-quickchart\" onclick=\"quickchart('df-4b07b624-b4d2-4f45-be59-40bef50b5877')\"\n",
              "            title=\"Suggest charts\"\n",
              "            style=\"display:none;\">\n",
              "\n",
              "<svg xmlns=\"http://www.w3.org/2000/svg\" height=\"24px\"viewBox=\"0 0 24 24\"\n",
              "     width=\"24px\">\n",
              "    <g>\n",
              "        <path d=\"M19 3H5c-1.1 0-2 .9-2 2v14c0 1.1.9 2 2 2h14c1.1 0 2-.9 2-2V5c0-1.1-.9-2-2-2zM9 17H7v-7h2v7zm4 0h-2V7h2v10zm4 0h-2v-4h2v4z\"/>\n",
              "    </g>\n",
              "</svg>\n",
              "  </button>\n",
              "\n",
              "<style>\n",
              "  .colab-df-quickchart {\n",
              "      --bg-color: #E8F0FE;\n",
              "      --fill-color: #1967D2;\n",
              "      --hover-bg-color: #E2EBFA;\n",
              "      --hover-fill-color: #174EA6;\n",
              "      --disabled-fill-color: #AAA;\n",
              "      --disabled-bg-color: #DDD;\n",
              "  }\n",
              "\n",
              "  [theme=dark] .colab-df-quickchart {\n",
              "      --bg-color: #3B4455;\n",
              "      --fill-color: #D2E3FC;\n",
              "      --hover-bg-color: #434B5C;\n",
              "      --hover-fill-color: #FFFFFF;\n",
              "      --disabled-bg-color: #3B4455;\n",
              "      --disabled-fill-color: #666;\n",
              "  }\n",
              "\n",
              "  .colab-df-quickchart {\n",
              "    background-color: var(--bg-color);\n",
              "    border: none;\n",
              "    border-radius: 50%;\n",
              "    cursor: pointer;\n",
              "    display: none;\n",
              "    fill: var(--fill-color);\n",
              "    height: 32px;\n",
              "    padding: 0;\n",
              "    width: 32px;\n",
              "  }\n",
              "\n",
              "  .colab-df-quickchart:hover {\n",
              "    background-color: var(--hover-bg-color);\n",
              "    box-shadow: 0 1px 2px rgba(60, 64, 67, 0.3), 0 1px 3px 1px rgba(60, 64, 67, 0.15);\n",
              "    fill: var(--button-hover-fill-color);\n",
              "  }\n",
              "\n",
              "  .colab-df-quickchart-complete:disabled,\n",
              "  .colab-df-quickchart-complete:disabled:hover {\n",
              "    background-color: var(--disabled-bg-color);\n",
              "    fill: var(--disabled-fill-color);\n",
              "    box-shadow: none;\n",
              "  }\n",
              "\n",
              "  .colab-df-spinner {\n",
              "    border: 2px solid var(--fill-color);\n",
              "    border-color: transparent;\n",
              "    border-bottom-color: var(--fill-color);\n",
              "    animation:\n",
              "      spin 1s steps(1) infinite;\n",
              "  }\n",
              "\n",
              "  @keyframes spin {\n",
              "    0% {\n",
              "      border-color: transparent;\n",
              "      border-bottom-color: var(--fill-color);\n",
              "      border-left-color: var(--fill-color);\n",
              "    }\n",
              "    20% {\n",
              "      border-color: transparent;\n",
              "      border-left-color: var(--fill-color);\n",
              "      border-top-color: var(--fill-color);\n",
              "    }\n",
              "    30% {\n",
              "      border-color: transparent;\n",
              "      border-left-color: var(--fill-color);\n",
              "      border-top-color: var(--fill-color);\n",
              "      border-right-color: var(--fill-color);\n",
              "    }\n",
              "    40% {\n",
              "      border-color: transparent;\n",
              "      border-right-color: var(--fill-color);\n",
              "      border-top-color: var(--fill-color);\n",
              "    }\n",
              "    60% {\n",
              "      border-color: transparent;\n",
              "      border-right-color: var(--fill-color);\n",
              "    }\n",
              "    80% {\n",
              "      border-color: transparent;\n",
              "      border-right-color: var(--fill-color);\n",
              "      border-bottom-color: var(--fill-color);\n",
              "    }\n",
              "    90% {\n",
              "      border-color: transparent;\n",
              "      border-bottom-color: var(--fill-color);\n",
              "    }\n",
              "  }\n",
              "</style>\n",
              "\n",
              "  <script>\n",
              "    async function quickchart(key) {\n",
              "      const quickchartButtonEl =\n",
              "        document.querySelector('#' + key + ' button');\n",
              "      quickchartButtonEl.disabled = true;  // To prevent multiple clicks.\n",
              "      quickchartButtonEl.classList.add('colab-df-spinner');\n",
              "      try {\n",
              "        const charts = await google.colab.kernel.invokeFunction(\n",
              "            'suggestCharts', [key], {});\n",
              "      } catch (error) {\n",
              "        console.error('Error during call to suggestCharts:', error);\n",
              "      }\n",
              "      quickchartButtonEl.classList.remove('colab-df-spinner');\n",
              "      quickchartButtonEl.classList.add('colab-df-quickchart-complete');\n",
              "    }\n",
              "    (() => {\n",
              "      let quickchartButtonEl =\n",
              "        document.querySelector('#df-4b07b624-b4d2-4f45-be59-40bef50b5877 button');\n",
              "      quickchartButtonEl.style.display =\n",
              "        google.colab.kernel.accessAllowed ? 'block' : 'none';\n",
              "    })();\n",
              "  </script>\n",
              "</div>\n",
              "\n",
              "    </div>\n",
              "  </div>\n"
            ],
            "application/vnd.google.colaboratory.intrinsic+json": {
              "type": "dataframe",
              "variable_name": "df",
              "summary": "{\n  \"name\": \"df\",\n  \"rows\": 14999,\n  \"fields\": [\n    {\n      \"column\": \"satisfaction_level\",\n      \"properties\": {\n        \"dtype\": \"number\",\n        \"std\": 0.24863065106114257,\n        \"min\": 0.09,\n        \"max\": 1.0,\n        \"num_unique_values\": 92,\n        \"samples\": [\n          0.83,\n          0.13,\n          0.55\n        ],\n        \"semantic_type\": \"\",\n        \"description\": \"\"\n      }\n    },\n    {\n      \"column\": \"last_evaluation\",\n      \"properties\": {\n        \"dtype\": \"number\",\n        \"std\": 0.17116911062327533,\n        \"min\": 0.36,\n        \"max\": 1.0,\n        \"num_unique_values\": 65,\n        \"samples\": [\n          0.66,\n          0.44,\n          0.53\n        ],\n        \"semantic_type\": \"\",\n        \"description\": \"\"\n      }\n    },\n    {\n      \"column\": \"number_project\",\n      \"properties\": {\n        \"dtype\": \"number\",\n        \"std\": 1,\n        \"min\": 2,\n        \"max\": 7,\n        \"num_unique_values\": 6,\n        \"samples\": [\n          2,\n          5,\n          3\n        ],\n        \"semantic_type\": \"\",\n        \"description\": \"\"\n      }\n    },\n    {\n      \"column\": \"average_montly_hours\",\n      \"properties\": {\n        \"dtype\": \"number\",\n        \"std\": 49,\n        \"min\": 96,\n        \"max\": 310,\n        \"num_unique_values\": 215,\n        \"samples\": [\n          118,\n          112,\n          222\n        ],\n        \"semantic_type\": \"\",\n        \"description\": \"\"\n      }\n    },\n    {\n      \"column\": \"time_spend_company\",\n      \"properties\": {\n        \"dtype\": \"number\",\n        \"std\": 1,\n        \"min\": 2,\n        \"max\": 10,\n        \"num_unique_values\": 8,\n        \"samples\": [\n          6,\n          8,\n          3\n        ],\n        \"semantic_type\": \"\",\n        \"description\": \"\"\n      }\n    },\n    {\n      \"column\": \"Work_accident\",\n      \"properties\": {\n        \"dtype\": \"number\",\n        \"std\": 0,\n        \"min\": 0,\n        \"max\": 1,\n        \"num_unique_values\": 2,\n        \"samples\": [\n          1,\n          0\n        ],\n        \"semantic_type\": \"\",\n        \"description\": \"\"\n      }\n    },\n    {\n      \"column\": \"left\",\n      \"properties\": {\n        \"dtype\": \"number\",\n        \"std\": 0,\n        \"min\": 0,\n        \"max\": 1,\n        \"num_unique_values\": 2,\n        \"samples\": [\n          0,\n          1\n        ],\n        \"semantic_type\": \"\",\n        \"description\": \"\"\n      }\n    },\n    {\n      \"column\": \"promotion_last_5years\",\n      \"properties\": {\n        \"dtype\": \"number\",\n        \"std\": 0,\n        \"min\": 0,\n        \"max\": 1,\n        \"num_unique_values\": 2,\n        \"samples\": [\n          1,\n          0\n        ],\n        \"semantic_type\": \"\",\n        \"description\": \"\"\n      }\n    },\n    {\n      \"column\": \"sales\",\n      \"properties\": {\n        \"dtype\": \"category\",\n        \"num_unique_values\": 10,\n        \"samples\": [\n          \"marketing\",\n          \"accounting\"\n        ],\n        \"semantic_type\": \"\",\n        \"description\": \"\"\n      }\n    },\n    {\n      \"column\": \"salary\",\n      \"properties\": {\n        \"dtype\": \"category\",\n        \"num_unique_values\": 3,\n        \"samples\": [\n          \"low\",\n          \"medium\"\n        ],\n        \"semantic_type\": \"\",\n        \"description\": \"\"\n      }\n    }\n  ]\n}"
            }
          },
          "metadata": {},
          "execution_count": 2
        }
      ]
    },
    {
      "cell_type": "code",
      "source": [
        "from google.colab import drive\n",
        "drive.mount('/content/drive')"
      ],
      "metadata": {
        "colab": {
          "base_uri": "https://localhost:8080/"
        },
        "id": "qaWfaW0vUo-0",
        "outputId": "3f56c5c6-82ea-4e80-d030-d4b603abc1e8"
      },
      "execution_count": null,
      "outputs": [
        {
          "output_type": "stream",
          "name": "stdout",
          "text": [
            "Drive already mounted at /content/drive; to attempt to forcibly remount, call drive.mount(\"/content/drive\", force_remount=True).\n"
          ]
        }
      ]
    },
    {
      "cell_type": "markdown",
      "source": [
        "How many employees in each of the department (use column \"sales\")"
      ],
      "metadata": {
        "id": "s4-DfJZNqrf1"
      }
    },
    {
      "cell_type": "code",
      "source": [
        "department_employee_count = df.groupby('sales').size().reset_index(name='num_employees')\n",
        "department_employee_count.insert(0, 'Serial No', range(1, len(department_employee_count) + 1))\n",
        "print(\"Department-wise Employee Count\")\n",
        "print(tabulate(department_employee_count, headers='keys', tablefmt='grid', showindex=False))\n"
      ],
      "metadata": {
        "colab": {
          "base_uri": "https://localhost:8080/"
        },
        "id": "5RwYFuJ8qppX",
        "outputId": "4f7f79a5-9a69-4489-ba4f-398f27a6133a"
      },
      "execution_count": null,
      "outputs": [
        {
          "output_type": "stream",
          "name": "stdout",
          "text": [
            "Department-wise Employee Count\n",
            "+-------------+-------------+-----------------+\n",
            "|   Serial No | sales       |   num_employees |\n",
            "+=============+=============+=================+\n",
            "|           1 | IT          |            1227 |\n",
            "+-------------+-------------+-----------------+\n",
            "|           2 | RandD       |             787 |\n",
            "+-------------+-------------+-----------------+\n",
            "|           3 | accounting  |             767 |\n",
            "+-------------+-------------+-----------------+\n",
            "|           4 | hr          |             739 |\n",
            "+-------------+-------------+-----------------+\n",
            "|           5 | management  |             630 |\n",
            "+-------------+-------------+-----------------+\n",
            "|           6 | marketing   |             858 |\n",
            "+-------------+-------------+-----------------+\n",
            "|           7 | product_mng |             902 |\n",
            "+-------------+-------------+-----------------+\n",
            "|           8 | sales       |            4140 |\n",
            "+-------------+-------------+-----------------+\n",
            "|           9 | support     |            2229 |\n",
            "+-------------+-------------+-----------------+\n",
            "|          10 | technical   |            2720 |\n",
            "+-------------+-------------+-----------------+\n"
          ]
        }
      ]
    },
    {
      "cell_type": "code",
      "source": [
        "left_employees_department = df[df['left'] == 1].groupby('sales').size().reset_index(name='num_employees')\n",
        "left_employees_department['rank'] = left_employees_department['num_employees'].rank(ascending=False)\n",
        "left_employees_department.insert(0, 'Serial No', range(1, len(left_employees_department) + 1))\n",
        "print(\"\\nDepartment-wise Employee Count of Employees Who Left and Their Rank\")\n",
        "print(tabulate(left_employees_department, headers='keys', tablefmt='grid', showindex=False))"
      ],
      "metadata": {
        "colab": {
          "base_uri": "https://localhost:8080/"
        },
        "id": "M11AicDDrTeL",
        "outputId": "c4818f9e-99a3-40a9-bb1c-83509f200257"
      },
      "execution_count": null,
      "outputs": [
        {
          "output_type": "stream",
          "name": "stdout",
          "text": [
            "\n",
            "Department-wise Employee Count of Employees Who Left and Their Rank\n",
            "+-------------+-------------+-----------------+--------+\n",
            "|   Serial No | sales       |   num_employees |   rank |\n",
            "+=============+=============+=================+========+\n",
            "|           1 | IT          |             273 |      4 |\n",
            "+-------------+-------------+-----------------+--------+\n",
            "|           2 | RandD       |             121 |      9 |\n",
            "+-------------+-------------+-----------------+--------+\n",
            "|           3 | accounting  |             204 |      6 |\n",
            "+-------------+-------------+-----------------+--------+\n",
            "|           4 | hr          |             215 |      5 |\n",
            "+-------------+-------------+-----------------+--------+\n",
            "|           5 | management  |              91 |     10 |\n",
            "+-------------+-------------+-----------------+--------+\n",
            "|           6 | marketing   |             203 |      7 |\n",
            "+-------------+-------------+-----------------+--------+\n",
            "|           7 | product_mng |             198 |      8 |\n",
            "+-------------+-------------+-----------------+--------+\n",
            "|           8 | sales       |            1014 |      1 |\n",
            "+-------------+-------------+-----------------+--------+\n",
            "|           9 | support     |             555 |      3 |\n",
            "+-------------+-------------+-----------------+--------+\n",
            "|          10 | technical   |             697 |      2 |\n",
            "+-------------+-------------+-----------------+--------+\n"
          ]
        }
      ]
    },
    {
      "cell_type": "code",
      "source": [
        "\n",
        "avg_time_hours = df.groupby(['sales', 'left']).agg(\n",
        "    avg_time_spend_company=('time_spend_company', 'mean'),\n",
        "    avg_average_monthly_hours=('average_montly_hours', 'mean')\n",
        ").reset_index()\n",
        "heatmap_data = avg_time_hours.pivot(index='sales', columns='left', values=['avg_time_spend_company', 'avg_average_monthly_hours'])\n",
        "\n",
        "heatmap_data_reset = heatmap_data.reset_index()\n",
        "\n",
        "heatmap_data_reset.insert(0, 'Serial No', range(1, len(heatmap_data_reset) + 1))\n",
        "\n",
        "print(\"\\nHeatmap Data for Average Time Spent and Monthly Hours by Department and Left Status\")\n",
        "print(tabulate(heatmap_data_reset, headers='keys', tablefmt='grid', showindex=False))\n"
      ],
      "metadata": {
        "colab": {
          "base_uri": "https://localhost:8080/"
        },
        "id": "H_d1KKFVLes-",
        "outputId": "26a07a5a-b695-4152-c9b7-49c3f08b334f"
      },
      "execution_count": null,
      "outputs": [
        {
          "output_type": "stream",
          "name": "stdout",
          "text": [
            "\n",
            "Heatmap Data for Average Time Spent and Monthly Hours by Department and Left Status\n",
            "+---------------------+-----------------+---------------------------------+---------------------------------+------------------------------------+------------------------------------+\n",
            "|   ('Serial No', '') | ('sales', '')   |   ('avg_time_spend_company', 0) |   ('avg_time_spend_company', 1) |   ('avg_average_monthly_hours', 0) |   ('avg_average_monthly_hours', 1) |\n",
            "+=====================+=================+=================================+=================================+====================================+====================================+\n",
            "|                   1 | IT              |                         3.35639 |                         3.86081 |                            198.887 |                            213.85  |\n",
            "+---------------------+-----------------+---------------------------------+---------------------------------+------------------------------------+------------------------------------+\n",
            "|                   2 | RandD           |                         3.25225 |                         4       |                            198.952 |                            210.975 |\n",
            "+---------------------+-----------------+---------------------------------+---------------------------------+------------------------------------+------------------------------------+\n",
            "|                   3 | accounting      |                         3.42451 |                         3.79412 |                            199.037 |                            207.029 |\n",
            "+---------------------+-----------------+---------------------------------+---------------------------------+------------------------------------+------------------------------------+\n",
            "|                   4 | hr              |                         3.19275 |                         3.75349 |                            199.25  |                            197.307 |\n",
            "+---------------------+-----------------+---------------------------------+---------------------------------+------------------------------------+------------------------------------+\n",
            "|                   5 | management      |                         4.39518 |                         3.75824 |                            200.234 |                            207.264 |\n",
            "+---------------------+-----------------+---------------------------------+---------------------------------+------------------------------------+------------------------------------+\n",
            "|                   6 | marketing       |                         3.48092 |                         3.85714 |                            198.889 |                            200.99  |\n",
            "+---------------------+-----------------+---------------------------------+---------------------------------+------------------------------------+------------------------------------+\n",
            "|                   7 | product_mng     |                         3.33097 |                         3.9899  |                            197.766 |                            207.788 |\n",
            "+---------------------+-----------------+---------------------------------+---------------------------------+------------------------------------+------------------------------------+\n",
            "|                   8 | sales           |                         3.4437  |                         3.81262 |                            199.572 |                            205.041 |\n",
            "+---------------------+-----------------+---------------------------------+---------------------------------+------------------------------------+------------------------------------+\n",
            "|                   9 | support         |                         3.21386 |                         3.93333 |                            199.141 |                            205.636 |\n",
            "+---------------------+-----------------+---------------------------------+---------------------------------+------------------------------------+------------------------------------+\n",
            "|                  10 | technical       |                         3.22244 |                         3.95983 |                            198.471 |                            214.184 |\n",
            "+---------------------+-----------------+---------------------------------+---------------------------------+------------------------------------+------------------------------------+\n"
          ]
        }
      ]
    },
    {
      "cell_type": "code",
      "source": [
        "accident_promotion_stats = df.groupby([\"left\", \"sales\"]).agg(\n",
        "    count_work_accident=(\"Work_accident\", \"sum\"),\n",
        "    count_promotion_last_5years=(\"promotion_last_5years\", \"sum\")\n",
        ").reset_index()\n",
        "\n",
        "\n",
        "accident_promotion_stats_sorted = accident_promotion_stats.sort_values(by=\"sales\")\n",
        "\n",
        "accident_promotion_stats_sorted.insert(0, 'Serial No', range(1, len(accident_promotion_stats_sorted) + 1))\n",
        "\n",
        "\n",
        "print(\"\\nCount of Work Accidents and Promotions by Department and Left Status\")\n",
        "print(tabulate(accident_promotion_stats_sorted, headers='keys', tablefmt='grid', showindex=False))\n"
      ],
      "metadata": {
        "colab": {
          "base_uri": "https://localhost:8080/"
        },
        "id": "56rAMn07MaV8",
        "outputId": "1d25eb85-bfc7-4ce5-d3b4-063fff002f52"
      },
      "execution_count": null,
      "outputs": [
        {
          "output_type": "stream",
          "name": "stdout",
          "text": [
            "\n",
            "Count of Work Accidents and Promotions by Department and Left Status\n",
            "+-------------+--------+-------------+-----------------------+-------------------------------+\n",
            "|   Serial No |   left | sales       |   count_work_accident |   count_promotion_last_5years |\n",
            "+=============+========+=============+=======================+===============================+\n",
            "|           1 |      0 | IT          |                   155 |                             0 |\n",
            "+-------------+--------+-------------+-----------------------+-------------------------------+\n",
            "|           2 |      1 | IT          |                     9 |                             3 |\n",
            "+-------------+--------+-------------+-----------------------+-------------------------------+\n",
            "|           3 |      0 | RandD       |                   124 |                            27 |\n",
            "+-------------+--------+-------------+-----------------------+-------------------------------+\n",
            "|           4 |      1 | RandD       |                    10 |                             0 |\n",
            "+-------------+--------+-------------+-----------------------+-------------------------------+\n",
            "|           5 |      0 | accounting  |                    87 |                            14 |\n",
            "+-------------+--------+-------------+-----------------------+-------------------------------+\n",
            "|           6 |      1 | accounting  |                     9 |                             0 |\n",
            "+-------------+--------+-------------+-----------------------+-------------------------------+\n",
            "|           7 |      0 | hr          |                    82 |                            15 |\n",
            "+-------------+--------+-------------+-----------------------+-------------------------------+\n",
            "|           8 |      1 | hr          |                     7 |                             0 |\n",
            "+-------------+--------+-------------+-----------------------+-------------------------------+\n",
            "|           9 |      0 | management  |                    98 |                            66 |\n",
            "+-------------+--------+-------------+-----------------------+-------------------------------+\n",
            "|          10 |      1 | management  |                     5 |                             3 |\n",
            "+-------------+--------+-------------+-----------------------+-------------------------------+\n",
            "|          11 |      0 | marketing   |                   128 |                            43 |\n",
            "+-------------+--------+-------------+-----------------------+-------------------------------+\n",
            "|          12 |      1 | marketing   |                    10 |                             0 |\n",
            "+-------------+--------+-------------+-----------------------+-------------------------------+\n",
            "|          13 |      0 | product_mng |                   123 |                             0 |\n",
            "+-------------+--------+-------------+-----------------------+-------------------------------+\n",
            "|          14 |      1 | product_mng |                     9 |                             0 |\n",
            "+-------------+--------+-------------+-----------------------+-------------------------------+\n",
            "|          15 |      1 | sales       |                    46 |                             7 |\n",
            "+-------------+--------+-------------+-----------------------+-------------------------------+\n",
            "|          16 |      0 | sales       |                   541 |                            93 |\n",
            "+-------------+--------+-------------+-----------------------+-------------------------------+\n",
            "|          17 |      1 | support     |                    31 |                             3 |\n",
            "+-------------+--------+-------------+-----------------------+-------------------------------+\n",
            "|          18 |      0 | support     |                   314 |                            17 |\n",
            "+-------------+--------+-------------+-----------------------+-------------------------------+\n",
            "|          19 |      0 | technical   |                   348 |                            25 |\n",
            "+-------------+--------+-------------+-----------------------+-------------------------------+\n",
            "|          20 |      1 | technical   |                    33 |                             3 |\n",
            "+-------------+--------+-------------+-----------------------+-------------------------------+\n"
          ]
        }
      ]
    },
    {
      "cell_type": "code",
      "source": [
        "eval_satisfaction_stats = df.groupby([\"sales\", \"left\"]).agg(\n",
        "    min_last_evaluation=(\"last_evaluation\", \"min\"),\n",
        "    max_last_evaluation=(\"last_evaluation\", \"max\"),\n",
        "    avg_last_evaluation=(\"last_evaluation\", \"mean\"),\n",
        "    min_satisfaction_level=(\"satisfaction_level\", \"min\"),\n",
        "    max_satisfaction_level=(\"satisfaction_level\", \"max\"),\n",
        "    avg_satisfaction_level=(\"satisfaction_level\", \"mean\")\n",
        ").reset_index()\n",
        "\n",
        "eval_satisfaction_stats_sorted = eval_satisfaction_stats.sort_values(by=\"sales\")\n",
        "\n",
        "eval_satisfaction_stats_sorted.insert(0, 'Serial No', range(1, len(eval_satisfaction_stats_sorted) + 1))\n",
        "\n",
        "\n",
        "print(\"\\nEvaluation and Satisfaction Statistics by Department and Left Status\")\n",
        "print(tabulate(eval_satisfaction_stats_sorted, headers='keys', tablefmt='grid', showindex=False))"
      ],
      "metadata": {
        "colab": {
          "base_uri": "https://localhost:8080/"
        },
        "id": "NJz3OYjSM0YW",
        "outputId": "df658ce5-d682-4ee6-ed4c-40d464918b12"
      },
      "execution_count": null,
      "outputs": [
        {
          "output_type": "stream",
          "name": "stdout",
          "text": [
            "\n",
            "Evaluation and Satisfaction Statistics by Department and Left Status\n",
            "+-------------+-------------+--------+-----------------------+-----------------------+-----------------------+--------------------------+--------------------------+--------------------------+\n",
            "|   Serial No | sales       |   left |   min_last_evaluation |   max_last_evaluation |   avg_last_evaluation |   min_satisfaction_level |   max_satisfaction_level |   avg_satisfaction_level |\n",
            "+=============+=============+========+=======================+=======================+=======================+==========================+==========================+==========================+\n",
            "|           1 | IT          |      0 |                  0.37 |                     1 |              0.71305  |                     0.12 |                     1    |                 0.67717  |\n",
            "+-------------+-------------+--------+-----------------------+-----------------------+-----------------------+--------------------------+--------------------------+--------------------------+\n",
            "|           2 | IT          |      1 |                  0.45 |                     1 |              0.730037 |                     0.09 |                     0.92 |                 0.411868 |\n",
            "+-------------+-------------+--------+-----------------------+-----------------------+-----------------------+--------------------------+--------------------------+--------------------------+\n",
            "|           3 | RandD       |      0 |                  0.36 |                     1 |              0.706081 |                     0.12 |                     1    |                 0.653799 |\n",
            "+-------------+-------------+--------+-----------------------+-----------------------+-----------------------+--------------------------+--------------------------+--------------------------+\n",
            "|           4 | RandD       |      1 |                  0.46 |                     1 |              0.745372 |                     0.09 |                     0.92 |                 0.43281  |\n",
            "+-------------+-------------+--------+-----------------------+-----------------------+-----------------------+--------------------------+--------------------------+--------------------------+\n",
            "|           5 | accounting  |      0 |                  0.36 |                     1 |              0.726128 |                     0.12 |                     1    |                 0.647211 |\n",
            "+-------------+-------------+--------+-----------------------+-----------------------+-----------------------+--------------------------+--------------------------+--------------------------+\n",
            "|           6 | accounting  |      1 |                  0.45 |                     1 |              0.69451  |                     0.09 |                     0.91 |                 0.402598 |\n",
            "+-------------+-------------+--------+-----------------------+-----------------------+-----------------------+--------------------------+--------------------------+--------------------------+\n",
            "|           7 | hr          |      0 |                  0.37 |                     1 |              0.720802 |                     0.13 |                     1    |                 0.666679 |\n",
            "+-------------+-------------+--------+-----------------------+-----------------------+-----------------------+--------------------------+--------------------------+--------------------------+\n",
            "|           8 | hr          |      1 |                  0.45 |                     1 |              0.679721 |                     0.09 |                     0.91 |                 0.433395 |\n",
            "+-------------+-------------+--------+-----------------------+-----------------------+-----------------------+--------------------------+--------------------------+--------------------------+\n",
            "|           9 | management  |      1 |                  0.46 |                     1 |              0.727253 |                     0.09 |                     0.9  |                 0.422857 |\n",
            "+-------------+-------------+--------+-----------------------+-----------------------+-----------------------+--------------------------+--------------------------+--------------------------+\n",
            "|          10 | management  |      0 |                  0.37 |                     1 |              0.723451 |                     0.12 |                     1    |                 0.654861 |\n",
            "+-------------+-------------+--------+-----------------------+-----------------------+-----------------------+--------------------------+--------------------------+--------------------------+\n",
            "|          11 | marketing   |      0 |                  0.36 |                     1 |              0.723282 |                     0.12 |                     1    |                 0.669878 |\n",
            "+-------------+-------------+--------+-----------------------+-----------------------+-----------------------+--------------------------+--------------------------+--------------------------+\n",
            "|          12 | marketing   |      1 |                  0.45 |                     1 |              0.69202  |                     0.09 |                     0.9  |                 0.453153 |\n",
            "+-------------+-------------+--------+-----------------------+-----------------------+-----------------------+--------------------------+--------------------------+--------------------------+\n",
            "|          13 | product_mng |      0 |                  0.36 |                     1 |              0.711435 |                     0.13 |                     1    |                 0.658466 |\n",
            "+-------------+-------------+--------+-----------------------+-----------------------+-----------------------+--------------------------+--------------------------+--------------------------+\n",
            "|          14 | product_mng |      1 |                  0.45 |                     1 |              0.726566 |                     0.09 |                     0.91 |                 0.481566 |\n",
            "+-------------+-------------+--------+-----------------------+-----------------------+-----------------------+--------------------------+--------------------------+--------------------------+\n",
            "|          15 | sales       |      0 |                  0.36 |                     1 |              0.709223 |                     0.12 |                     1    |                 0.668548 |\n",
            "+-------------+-------------+--------+-----------------------+-----------------------+-----------------------+--------------------------+--------------------------+--------------------------+\n",
            "|          16 | sales       |      1 |                  0.45 |                     1 |              0.711243 |                     0.09 |                     0.92 |                 0.447663 |\n",
            "+-------------+-------------+--------+-----------------------+-----------------------+-----------------------+--------------------------+--------------------------+--------------------------+\n",
            "|          17 | support     |      0 |                  0.36 |                     1 |              0.721714 |                     0.12 |                     1    |                 0.673799 |\n",
            "+-------------+-------------+--------+-----------------------+-----------------------+-----------------------+--------------------------+--------------------------+--------------------------+\n",
            "|          18 | support     |      1 |                  0.45 |                     1 |              0.727315 |                     0.09 |                     0.91 |                 0.450901 |\n",
            "+-------------+-------------+--------+-----------------------+-----------------------+-----------------------+--------------------------+--------------------------+--------------------------+\n",
            "|          19 | technical   |      0 |                  0.36 |                     1 |              0.716609 |                     0.12 |                     1    |                 0.668319 |\n",
            "+-------------+-------------+--------+-----------------------+-----------------------+-----------------------+--------------------------+--------------------------+--------------------------+\n",
            "|          20 | technical   |      1 |                  0.45 |                     1 |              0.734132 |                     0.09 |                     0.92 |                 0.432525 |\n",
            "+-------------+-------------+--------+-----------------------+-----------------------+-----------------------+--------------------------+--------------------------+--------------------------+\n"
          ]
        }
      ]
    },
    {
      "cell_type": "code",
      "source": [
        "min_max_time_hours = df.groupby([\"left\", \"sales\"]).agg(\n",
        "    min_time_spend_company=(\"time_spend_company\", \"min\"),\n",
        "    max_time_spend_company=(\"time_spend_company\", \"max\"),\n",
        "    min_average_montly_hours=(\"average_montly_hours\", \"min\"),\n",
        "    max_average_montly_hours=(\"average_montly_hours\", \"max\")\n",
        ").reset_index()\n",
        "\n",
        "\n",
        "min_max_time_hours_sorted = min_max_time_hours.sort_values(by=\"sales\")\n",
        "\n",
        "min_max_time_hours_sorted.insert(0, 'Serial No', range(1, len(min_max_time_hours_sorted) + 1))\n",
        "\n",
        "print(\"\\nMinimum and Maximum Time Spent and Monthly Hours by Department and Left Status\")\n",
        "print(tabulate(min_max_time_hours_sorted, headers='keys', tablefmt='grid', showindex=False))\n"
      ],
      "metadata": {
        "colab": {
          "base_uri": "https://localhost:8080/"
        },
        "id": "hZy41dLdNC5k",
        "outputId": "6d478436-0991-4b04-eeaf-099ab4fb27ff"
      },
      "execution_count": null,
      "outputs": [
        {
          "output_type": "stream",
          "name": "stdout",
          "text": [
            "\n",
            "Minimum and Maximum Time Spent and Monthly Hours by Department and Left Status\n",
            "+-------------+--------+-------------+--------------------------+--------------------------+----------------------------+----------------------------+\n",
            "|   Serial No |   left | sales       |   min_time_spend_company |   max_time_spend_company |   min_average_montly_hours |   max_average_montly_hours |\n",
            "+=============+========+=============+==========================+==========================+============================+============================+\n",
            "|           1 |      0 | IT          |                        2 |                       10 |                         96 |                        287 |\n",
            "+-------------+--------+-------------+--------------------------+--------------------------+----------------------------+----------------------------+\n",
            "|           2 |      1 | IT          |                        2 |                        6 |                        127 |                        308 |\n",
            "+-------------+--------+-------------+--------------------------+--------------------------+----------------------------+----------------------------+\n",
            "|           3 |      0 | RandD       |                        2 |                        8 |                         98 |                        287 |\n",
            "+-------------+--------+-------------+--------------------------+--------------------------+----------------------------+----------------------------+\n",
            "|           4 |      1 | RandD       |                        2 |                        6 |                        127 |                        308 |\n",
            "+-------------+--------+-------------+--------------------------+--------------------------+----------------------------+----------------------------+\n",
            "|           5 |      0 | accounting  |                        2 |                       10 |                         97 |                        285 |\n",
            "+-------------+--------+-------------+--------------------------+--------------------------+----------------------------+----------------------------+\n",
            "|           6 |      1 | accounting  |                        2 |                        6 |                        127 |                        310 |\n",
            "+-------------+--------+-------------+--------------------------+--------------------------+----------------------------+----------------------------+\n",
            "|           7 |      0 | hr          |                        2 |                        8 |                         98 |                        285 |\n",
            "+-------------+--------+-------------+--------------------------+--------------------------+----------------------------+----------------------------+\n",
            "|           8 |      1 | hr          |                        3 |                        6 |                        126 |                        310 |\n",
            "+-------------+--------+-------------+--------------------------+--------------------------+----------------------------+----------------------------+\n",
            "|           9 |      0 | management  |                        2 |                       10 |                         97 |                        286 |\n",
            "+-------------+--------+-------------+--------------------------+--------------------------+----------------------------+----------------------------+\n",
            "|          10 |      1 | management  |                        2 |                        6 |                        127 |                        307 |\n",
            "+-------------+--------+-------------+--------------------------+--------------------------+----------------------------+----------------------------+\n",
            "|          11 |      0 | marketing   |                        2 |                       10 |                         96 |                        286 |\n",
            "+-------------+--------+-------------+--------------------------+--------------------------+----------------------------+----------------------------+\n",
            "|          12 |      1 | marketing   |                        3 |                        6 |                        127 |                        310 |\n",
            "+-------------+--------+-------------+--------------------------+--------------------------+----------------------------+----------------------------+\n",
            "|          13 |      0 | product_mng |                        2 |                       10 |                         98 |                        286 |\n",
            "+-------------+--------+-------------+--------------------------+--------------------------+----------------------------+----------------------------+\n",
            "|          14 |      1 | product_mng |                        3 |                        6 |                        129 |                        310 |\n",
            "+-------------+--------+-------------+--------------------------+--------------------------+----------------------------+----------------------------+\n",
            "|          15 |      1 | sales       |                        2 |                        6 |                        126 |                        310 |\n",
            "+-------------+--------+-------------+--------------------------+--------------------------+----------------------------+----------------------------+\n",
            "|          16 |      0 | sales       |                        2 |                       10 |                         96 |                        287 |\n",
            "+-------------+--------+-------------+--------------------------+--------------------------+----------------------------+----------------------------+\n",
            "|          17 |      1 | support     |                        2 |                        6 |                        126 |                        310 |\n",
            "+-------------+--------+-------------+--------------------------+--------------------------+----------------------------+----------------------------+\n",
            "|          18 |      0 | support     |                        2 |                       10 |                         96 |                        287 |\n",
            "+-------------+--------+-------------+--------------------------+--------------------------+----------------------------+----------------------------+\n",
            "|          19 |      0 | technical   |                        2 |                       10 |                         97 |                        287 |\n",
            "+-------------+--------+-------------+--------------------------+--------------------------+----------------------------+----------------------------+\n",
            "|          20 |      1 | technical   |                        2 |                        6 |                        126 |                        310 |\n",
            "+-------------+--------+-------------+--------------------------+--------------------------+----------------------------+----------------------------+\n"
          ]
        }
      ]
    },
    {
      "cell_type": "code",
      "source": [
        "eval_satisfaction_stats = df.groupby([\"left\", \"sales\"]).agg(\n",
        "    min_last_evaluation=(\"last_evaluation\", \"min\"),\n",
        "    max_last_evaluation=(\"last_evaluation\", \"max\"),\n",
        "    avg_last_evaluation=(\"last_evaluation\", \"mean\"),\n",
        "    min_satisfaction_level=(\"satisfaction_level\", \"min\"),\n",
        "    max_satisfaction_level=(\"satisfaction_level\", \"max\"),\n",
        "    avg_satisfaction_level=(\"satisfaction_level\", \"mean\")\n",
        ").reset_index()\n",
        "\n",
        "# Sort by 'sales'\n",
        "eval_satisfaction_stats_sorted = eval_satisfaction_stats.sort_values(by=\"sales\")\n",
        "\n",
        "# Add serial number column\n",
        "eval_satisfaction_stats_sorted.insert(0, 'Serial No', range(1, len(eval_satisfaction_stats_sorted) + 1))\n",
        "\n",
        "# Print the table with a dotted line\n",
        "print(\"\\nEvaluation and Satisfaction Statistics by Department and Left Status\")\n",
        "print(tabulate(eval_satisfaction_stats_sorted, headers='keys', tablefmt='grid', showindex=False))"
      ],
      "metadata": {
        "colab": {
          "base_uri": "https://localhost:8080/"
        },
        "id": "B3XScpRrUKTO",
        "outputId": "b1c77848-d448-45e1-d90c-dd240654f283"
      },
      "execution_count": null,
      "outputs": [
        {
          "output_type": "stream",
          "name": "stdout",
          "text": [
            "\n",
            "Evaluation and Satisfaction Statistics by Department and Left Status\n",
            "+-------------+--------+-------------+-----------------------+-----------------------+-----------------------+--------------------------+--------------------------+--------------------------+\n",
            "|   Serial No |   left | sales       |   min_last_evaluation |   max_last_evaluation |   avg_last_evaluation |   min_satisfaction_level |   max_satisfaction_level |   avg_satisfaction_level |\n",
            "+=============+========+=============+=======================+=======================+=======================+==========================+==========================+==========================+\n",
            "|           1 |      0 | IT          |                  0.37 |                     1 |              0.71305  |                     0.12 |                     1    |                 0.67717  |\n",
            "+-------------+--------+-------------+-----------------------+-----------------------+-----------------------+--------------------------+--------------------------+--------------------------+\n",
            "|           2 |      1 | IT          |                  0.45 |                     1 |              0.730037 |                     0.09 |                     0.92 |                 0.411868 |\n",
            "+-------------+--------+-------------+-----------------------+-----------------------+-----------------------+--------------------------+--------------------------+--------------------------+\n",
            "|           3 |      0 | RandD       |                  0.36 |                     1 |              0.706081 |                     0.12 |                     1    |                 0.653799 |\n",
            "+-------------+--------+-------------+-----------------------+-----------------------+-----------------------+--------------------------+--------------------------+--------------------------+\n",
            "|           4 |      1 | RandD       |                  0.46 |                     1 |              0.745372 |                     0.09 |                     0.92 |                 0.43281  |\n",
            "+-------------+--------+-------------+-----------------------+-----------------------+-----------------------+--------------------------+--------------------------+--------------------------+\n",
            "|           5 |      0 | accounting  |                  0.36 |                     1 |              0.726128 |                     0.12 |                     1    |                 0.647211 |\n",
            "+-------------+--------+-------------+-----------------------+-----------------------+-----------------------+--------------------------+--------------------------+--------------------------+\n",
            "|           6 |      1 | accounting  |                  0.45 |                     1 |              0.69451  |                     0.09 |                     0.91 |                 0.402598 |\n",
            "+-------------+--------+-------------+-----------------------+-----------------------+-----------------------+--------------------------+--------------------------+--------------------------+\n",
            "|           7 |      0 | hr          |                  0.37 |                     1 |              0.720802 |                     0.13 |                     1    |                 0.666679 |\n",
            "+-------------+--------+-------------+-----------------------+-----------------------+-----------------------+--------------------------+--------------------------+--------------------------+\n",
            "|           8 |      1 | hr          |                  0.45 |                     1 |              0.679721 |                     0.09 |                     0.91 |                 0.433395 |\n",
            "+-------------+--------+-------------+-----------------------+-----------------------+-----------------------+--------------------------+--------------------------+--------------------------+\n",
            "|           9 |      0 | management  |                  0.37 |                     1 |              0.723451 |                     0.12 |                     1    |                 0.654861 |\n",
            "+-------------+--------+-------------+-----------------------+-----------------------+-----------------------+--------------------------+--------------------------+--------------------------+\n",
            "|          10 |      1 | management  |                  0.46 |                     1 |              0.727253 |                     0.09 |                     0.9  |                 0.422857 |\n",
            "+-------------+--------+-------------+-----------------------+-----------------------+-----------------------+--------------------------+--------------------------+--------------------------+\n",
            "|          11 |      0 | marketing   |                  0.36 |                     1 |              0.723282 |                     0.12 |                     1    |                 0.669878 |\n",
            "+-------------+--------+-------------+-----------------------+-----------------------+-----------------------+--------------------------+--------------------------+--------------------------+\n",
            "|          12 |      1 | marketing   |                  0.45 |                     1 |              0.69202  |                     0.09 |                     0.9  |                 0.453153 |\n",
            "+-------------+--------+-------------+-----------------------+-----------------------+-----------------------+--------------------------+--------------------------+--------------------------+\n",
            "|          13 |      0 | product_mng |                  0.36 |                     1 |              0.711435 |                     0.13 |                     1    |                 0.658466 |\n",
            "+-------------+--------+-------------+-----------------------+-----------------------+-----------------------+--------------------------+--------------------------+--------------------------+\n",
            "|          14 |      1 | product_mng |                  0.45 |                     1 |              0.726566 |                     0.09 |                     0.91 |                 0.481566 |\n",
            "+-------------+--------+-------------+-----------------------+-----------------------+-----------------------+--------------------------+--------------------------+--------------------------+\n",
            "|          15 |      1 | sales       |                  0.45 |                     1 |              0.711243 |                     0.09 |                     0.92 |                 0.447663 |\n",
            "+-------------+--------+-------------+-----------------------+-----------------------+-----------------------+--------------------------+--------------------------+--------------------------+\n",
            "|          16 |      0 | sales       |                  0.36 |                     1 |              0.709223 |                     0.12 |                     1    |                 0.668548 |\n",
            "+-------------+--------+-------------+-----------------------+-----------------------+-----------------------+--------------------------+--------------------------+--------------------------+\n",
            "|          17 |      1 | support     |                  0.45 |                     1 |              0.727315 |                     0.09 |                     0.91 |                 0.450901 |\n",
            "+-------------+--------+-------------+-----------------------+-----------------------+-----------------------+--------------------------+--------------------------+--------------------------+\n",
            "|          18 |      0 | support     |                  0.36 |                     1 |              0.721714 |                     0.12 |                     1    |                 0.673799 |\n",
            "+-------------+--------+-------------+-----------------------+-----------------------+-----------------------+--------------------------+--------------------------+--------------------------+\n",
            "|          19 |      0 | technical   |                  0.36 |                     1 |              0.716609 |                     0.12 |                     1    |                 0.668319 |\n",
            "+-------------+--------+-------------+-----------------------+-----------------------+-----------------------+--------------------------+--------------------------+--------------------------+\n",
            "|          20 |      1 | technical   |                  0.45 |                     1 |              0.734132 |                     0.09 |                     0.92 |                 0.432525 |\n",
            "+-------------+--------+-------------+-----------------------+-----------------------+-----------------------+--------------------------+--------------------------+--------------------------+\n"
          ]
        }
      ]
    },
    {
      "cell_type": "code",
      "source": [
        "min_max_time_hours = df.groupby([\"left\", \"sales\"]).agg(\n",
        "    min_time_spend_company=(\"time_spend_company\", \"min\"),\n",
        "    max_time_spend_company=(\"time_spend_company\", \"max\"),\n",
        "    min_average_montly_hours=(\"average_montly_hours\", \"min\"),\n",
        "    max_average_montly_hours=(\"average_montly_hours\", \"max\")\n",
        ").reset_index()\n",
        "\n",
        "# Sort the results by 'sales'\n",
        "min_max_time_hours_sorted = min_max_time_hours.sort_values(by=\"sales\")\n",
        "\n",
        "# Add serial number column\n",
        "min_max_time_hours_sorted.insert(0, 'Serial No', range(1, len(min_max_time_hours_sorted) + 1))\n",
        "\n",
        "print(\"\\nMinimum and Maximum Time Spent and Monthly Hours by Department and Left Status\")\n",
        "print(tabulate(min_max_time_hours_sorted, headers='keys', tablefmt='grid', showindex=False))\n"
      ],
      "metadata": {
        "colab": {
          "base_uri": "https://localhost:8080/"
        },
        "id": "DbpZi1eBUdab",
        "outputId": "1077c023-02d3-4938-98d9-d5158a2074db"
      },
      "execution_count": null,
      "outputs": [
        {
          "output_type": "stream",
          "name": "stdout",
          "text": [
            "\n",
            "Minimum and Maximum Time Spent and Monthly Hours by Department and Left Status\n",
            "+-------------+--------+-------------+--------------------------+--------------------------+----------------------------+----------------------------+\n",
            "|   Serial No |   left | sales       |   min_time_spend_company |   max_time_spend_company |   min_average_montly_hours |   max_average_montly_hours |\n",
            "+=============+========+=============+==========================+==========================+============================+============================+\n",
            "|           1 |      0 | IT          |                        2 |                       10 |                         96 |                        287 |\n",
            "+-------------+--------+-------------+--------------------------+--------------------------+----------------------------+----------------------------+\n",
            "|           2 |      1 | IT          |                        2 |                        6 |                        127 |                        308 |\n",
            "+-------------+--------+-------------+--------------------------+--------------------------+----------------------------+----------------------------+\n",
            "|           3 |      0 | RandD       |                        2 |                        8 |                         98 |                        287 |\n",
            "+-------------+--------+-------------+--------------------------+--------------------------+----------------------------+----------------------------+\n",
            "|           4 |      1 | RandD       |                        2 |                        6 |                        127 |                        308 |\n",
            "+-------------+--------+-------------+--------------------------+--------------------------+----------------------------+----------------------------+\n",
            "|           5 |      0 | accounting  |                        2 |                       10 |                         97 |                        285 |\n",
            "+-------------+--------+-------------+--------------------------+--------------------------+----------------------------+----------------------------+\n",
            "|           6 |      1 | accounting  |                        2 |                        6 |                        127 |                        310 |\n",
            "+-------------+--------+-------------+--------------------------+--------------------------+----------------------------+----------------------------+\n",
            "|           7 |      0 | hr          |                        2 |                        8 |                         98 |                        285 |\n",
            "+-------------+--------+-------------+--------------------------+--------------------------+----------------------------+----------------------------+\n",
            "|           8 |      1 | hr          |                        3 |                        6 |                        126 |                        310 |\n",
            "+-------------+--------+-------------+--------------------------+--------------------------+----------------------------+----------------------------+\n",
            "|           9 |      0 | management  |                        2 |                       10 |                         97 |                        286 |\n",
            "+-------------+--------+-------------+--------------------------+--------------------------+----------------------------+----------------------------+\n",
            "|          10 |      1 | management  |                        2 |                        6 |                        127 |                        307 |\n",
            "+-------------+--------+-------------+--------------------------+--------------------------+----------------------------+----------------------------+\n",
            "|          11 |      0 | marketing   |                        2 |                       10 |                         96 |                        286 |\n",
            "+-------------+--------+-------------+--------------------------+--------------------------+----------------------------+----------------------------+\n",
            "|          12 |      1 | marketing   |                        3 |                        6 |                        127 |                        310 |\n",
            "+-------------+--------+-------------+--------------------------+--------------------------+----------------------------+----------------------------+\n",
            "|          13 |      0 | product_mng |                        2 |                       10 |                         98 |                        286 |\n",
            "+-------------+--------+-------------+--------------------------+--------------------------+----------------------------+----------------------------+\n",
            "|          14 |      1 | product_mng |                        3 |                        6 |                        129 |                        310 |\n",
            "+-------------+--------+-------------+--------------------------+--------------------------+----------------------------+----------------------------+\n",
            "|          15 |      1 | sales       |                        2 |                        6 |                        126 |                        310 |\n",
            "+-------------+--------+-------------+--------------------------+--------------------------+----------------------------+----------------------------+\n",
            "|          16 |      0 | sales       |                        2 |                       10 |                         96 |                        287 |\n",
            "+-------------+--------+-------------+--------------------------+--------------------------+----------------------------+----------------------------+\n",
            "|          17 |      1 | support     |                        2 |                        6 |                        126 |                        310 |\n",
            "+-------------+--------+-------------+--------------------------+--------------------------+----------------------------+----------------------------+\n",
            "|          18 |      0 | support     |                        2 |                       10 |                         96 |                        287 |\n",
            "+-------------+--------+-------------+--------------------------+--------------------------+----------------------------+----------------------------+\n",
            "|          19 |      0 | technical   |                        2 |                       10 |                         97 |                        287 |\n",
            "+-------------+--------+-------------+--------------------------+--------------------------+----------------------------+----------------------------+\n",
            "|          20 |      1 | technical   |                        2 |                        6 |                        126 |                        310 |\n",
            "+-------------+--------+-------------+--------------------------+--------------------------+----------------------------+----------------------------+\n"
          ]
        }
      ]
    },
    {
      "cell_type": "code",
      "source": [
        "avg_time_hours_sorted = df.groupby([\"left\", \"sales\"]).agg(\n",
        "    avg_time_spend_company=(\"time_spend_company\", \"mean\"),\n",
        "    avg_average_montly_hours=(\"average_montly_hours\", \"mean\")\n",
        ").reset_index().sort_values(by=\"sales\")\n",
        "\n",
        "min_max_time_hours_sorted = df.groupby([\"left\", \"sales\"]).agg(\n",
        "    min_time_spend_company=(\"time_spend_company\", \"min\"),\n",
        "    max_time_spend_company=(\"time_spend_company\", \"max\"),\n",
        "    min_average_montly_hours=(\"average_montly_hours\", \"min\"),\n",
        "    max_average_montly_hours=(\"average_montly_hours\", \"max\")\n",
        ").reset_index().sort_values(by=\"sales\")\n",
        "eval_satisfaction_stats_sorted = df.groupby([\"left\", \"sales\"]).agg(\n",
        "    min_last_evaluation=(\"last_evaluation\", \"min\"),\n",
        "    max_last_evaluation=(\"last_evaluation\", \"max\"),\n",
        "    avg_last_evaluation=(\"last_evaluation\", \"mean\"),\n",
        "    min_satisfaction_level=(\"satisfaction_level\", \"min\"),\n",
        "    max_satisfaction_level=(\"satisfaction_level\", \"max\"),\n",
        "    avg_satisfaction_level=(\"satisfaction_level\", \"mean\")\n",
        ").reset_index().sort_values(by=\"sales\")\n",
        "\n",
        "accident_promotion_stats_sorted = df.groupby([\"left\", \"sales\"]).agg(\n",
        "    count_work_accident=(\"Work_accident\", \"sum\"),\n",
        "    count_promotion_last_5years=(\"promotion_last_5years\", \"sum\")\n",
        ").reset_index().sort_values(by=\"sales\")\n",
        "\n",
        "# Merging data frames\n",
        "merged_results = pd.merge(avg_time_hours_sorted, min_max_time_hours_sorted, on=[\"left\", \"sales\"])\n",
        "merged_results = pd.merge(merged_results, eval_satisfaction_stats_sorted, on=[\"left\", \"sales\"])\n",
        "merged_results = pd.merge(merged_results, accident_promotion_stats_sorted, on=[\"left\", \"sales\"])\n",
        "\n",
        "# Add serial number column\n",
        "merged_results.insert(0, 'Serial No', range(1, len(merged_results) + 1))\n",
        "\n",
        "# Print the table with grid lines\n",
        "print(\"\\nMerged Results Table\")\n",
        "print(tabulate(merged_results, headers='keys', tablefmt='grid', showindex=False))\n"
      ],
      "metadata": {
        "colab": {
          "base_uri": "https://localhost:8080/"
        },
        "id": "-MyIK6ZfYRWV",
        "outputId": "e97fab04-7e05-44f8-c3a3-408d522b5e9f"
      },
      "execution_count": null,
      "outputs": [
        {
          "output_type": "stream",
          "name": "stdout",
          "text": [
            "\n",
            "Merged Results Table\n",
            "+-------------+--------+-------------+--------------------------+----------------------------+--------------------------+--------------------------+----------------------------+----------------------------+-----------------------+-----------------------+-----------------------+--------------------------+--------------------------+--------------------------+-----------------------+-------------------------------+\n",
            "|   Serial No |   left | sales       |   avg_time_spend_company |   avg_average_montly_hours |   min_time_spend_company |   max_time_spend_company |   min_average_montly_hours |   max_average_montly_hours |   min_last_evaluation |   max_last_evaluation |   avg_last_evaluation |   min_satisfaction_level |   max_satisfaction_level |   avg_satisfaction_level |   count_work_accident |   count_promotion_last_5years |\n",
            "+=============+========+=============+==========================+============================+==========================+==========================+============================+============================+=======================+=======================+=======================+==========================+==========================+==========================+=======================+===============================+\n",
            "|           1 |      0 | IT          |                  3.35639 |                    198.887 |                        2 |                       10 |                         96 |                        287 |                  0.37 |                     1 |              0.71305  |                     0.12 |                     1    |                 0.67717  |                   155 |                             0 |\n",
            "+-------------+--------+-------------+--------------------------+----------------------------+--------------------------+--------------------------+----------------------------+----------------------------+-----------------------+-----------------------+-----------------------+--------------------------+--------------------------+--------------------------+-----------------------+-------------------------------+\n",
            "|           2 |      1 | IT          |                  3.86081 |                    213.85  |                        2 |                        6 |                        127 |                        308 |                  0.45 |                     1 |              0.730037 |                     0.09 |                     0.92 |                 0.411868 |                     9 |                             3 |\n",
            "+-------------+--------+-------------+--------------------------+----------------------------+--------------------------+--------------------------+----------------------------+----------------------------+-----------------------+-----------------------+-----------------------+--------------------------+--------------------------+--------------------------+-----------------------+-------------------------------+\n",
            "|           3 |      0 | RandD       |                  3.25225 |                    198.952 |                        2 |                        8 |                         98 |                        287 |                  0.36 |                     1 |              0.706081 |                     0.12 |                     1    |                 0.653799 |                   124 |                            27 |\n",
            "+-------------+--------+-------------+--------------------------+----------------------------+--------------------------+--------------------------+----------------------------+----------------------------+-----------------------+-----------------------+-----------------------+--------------------------+--------------------------+--------------------------+-----------------------+-------------------------------+\n",
            "|           4 |      1 | RandD       |                  4       |                    210.975 |                        2 |                        6 |                        127 |                        308 |                  0.46 |                     1 |              0.745372 |                     0.09 |                     0.92 |                 0.43281  |                    10 |                             0 |\n",
            "+-------------+--------+-------------+--------------------------+----------------------------+--------------------------+--------------------------+----------------------------+----------------------------+-----------------------+-----------------------+-----------------------+--------------------------+--------------------------+--------------------------+-----------------------+-------------------------------+\n",
            "|           5 |      0 | accounting  |                  3.42451 |                    199.037 |                        2 |                       10 |                         97 |                        285 |                  0.36 |                     1 |              0.726128 |                     0.12 |                     1    |                 0.647211 |                    87 |                            14 |\n",
            "+-------------+--------+-------------+--------------------------+----------------------------+--------------------------+--------------------------+----------------------------+----------------------------+-----------------------+-----------------------+-----------------------+--------------------------+--------------------------+--------------------------+-----------------------+-------------------------------+\n",
            "|           6 |      1 | accounting  |                  3.79412 |                    207.029 |                        2 |                        6 |                        127 |                        310 |                  0.45 |                     1 |              0.69451  |                     0.09 |                     0.91 |                 0.402598 |                     9 |                             0 |\n",
            "+-------------+--------+-------------+--------------------------+----------------------------+--------------------------+--------------------------+----------------------------+----------------------------+-----------------------+-----------------------+-----------------------+--------------------------+--------------------------+--------------------------+-----------------------+-------------------------------+\n",
            "|           7 |      0 | hr          |                  3.19275 |                    199.25  |                        2 |                        8 |                         98 |                        285 |                  0.37 |                     1 |              0.720802 |                     0.13 |                     1    |                 0.666679 |                    82 |                            15 |\n",
            "+-------------+--------+-------------+--------------------------+----------------------------+--------------------------+--------------------------+----------------------------+----------------------------+-----------------------+-----------------------+-----------------------+--------------------------+--------------------------+--------------------------+-----------------------+-------------------------------+\n",
            "|           8 |      1 | hr          |                  3.75349 |                    197.307 |                        3 |                        6 |                        126 |                        310 |                  0.45 |                     1 |              0.679721 |                     0.09 |                     0.91 |                 0.433395 |                     7 |                             0 |\n",
            "+-------------+--------+-------------+--------------------------+----------------------------+--------------------------+--------------------------+----------------------------+----------------------------+-----------------------+-----------------------+-----------------------+--------------------------+--------------------------+--------------------------+-----------------------+-------------------------------+\n",
            "|           9 |      0 | management  |                  4.39518 |                    200.234 |                        2 |                       10 |                         97 |                        286 |                  0.37 |                     1 |              0.723451 |                     0.12 |                     1    |                 0.654861 |                    98 |                            66 |\n",
            "+-------------+--------+-------------+--------------------------+----------------------------+--------------------------+--------------------------+----------------------------+----------------------------+-----------------------+-----------------------+-----------------------+--------------------------+--------------------------+--------------------------+-----------------------+-------------------------------+\n",
            "|          10 |      1 | management  |                  3.75824 |                    207.264 |                        2 |                        6 |                        127 |                        307 |                  0.46 |                     1 |              0.727253 |                     0.09 |                     0.9  |                 0.422857 |                     5 |                             3 |\n",
            "+-------------+--------+-------------+--------------------------+----------------------------+--------------------------+--------------------------+----------------------------+----------------------------+-----------------------+-----------------------+-----------------------+--------------------------+--------------------------+--------------------------+-----------------------+-------------------------------+\n",
            "|          11 |      0 | marketing   |                  3.48092 |                    198.889 |                        2 |                       10 |                         96 |                        286 |                  0.36 |                     1 |              0.723282 |                     0.12 |                     1    |                 0.669878 |                   128 |                            43 |\n",
            "+-------------+--------+-------------+--------------------------+----------------------------+--------------------------+--------------------------+----------------------------+----------------------------+-----------------------+-----------------------+-----------------------+--------------------------+--------------------------+--------------------------+-----------------------+-------------------------------+\n",
            "|          12 |      1 | marketing   |                  3.85714 |                    200.99  |                        3 |                        6 |                        127 |                        310 |                  0.45 |                     1 |              0.69202  |                     0.09 |                     0.9  |                 0.453153 |                    10 |                             0 |\n",
            "+-------------+--------+-------------+--------------------------+----------------------------+--------------------------+--------------------------+----------------------------+----------------------------+-----------------------+-----------------------+-----------------------+--------------------------+--------------------------+--------------------------+-----------------------+-------------------------------+\n",
            "|          13 |      0 | product_mng |                  3.33097 |                    197.766 |                        2 |                       10 |                         98 |                        286 |                  0.36 |                     1 |              0.711435 |                     0.13 |                     1    |                 0.658466 |                   123 |                             0 |\n",
            "+-------------+--------+-------------+--------------------------+----------------------------+--------------------------+--------------------------+----------------------------+----------------------------+-----------------------+-----------------------+-----------------------+--------------------------+--------------------------+--------------------------+-----------------------+-------------------------------+\n",
            "|          14 |      1 | product_mng |                  3.9899  |                    207.788 |                        3 |                        6 |                        129 |                        310 |                  0.45 |                     1 |              0.726566 |                     0.09 |                     0.91 |                 0.481566 |                     9 |                             0 |\n",
            "+-------------+--------+-------------+--------------------------+----------------------------+--------------------------+--------------------------+----------------------------+----------------------------+-----------------------+-----------------------+-----------------------+--------------------------+--------------------------+--------------------------+-----------------------+-------------------------------+\n",
            "|          15 |      1 | sales       |                  3.81262 |                    205.041 |                        2 |                        6 |                        126 |                        310 |                  0.45 |                     1 |              0.711243 |                     0.09 |                     0.92 |                 0.447663 |                    46 |                             7 |\n",
            "+-------------+--------+-------------+--------------------------+----------------------------+--------------------------+--------------------------+----------------------------+----------------------------+-----------------------+-----------------------+-----------------------+--------------------------+--------------------------+--------------------------+-----------------------+-------------------------------+\n",
            "|          16 |      0 | sales       |                  3.4437  |                    199.572 |                        2 |                       10 |                         96 |                        287 |                  0.36 |                     1 |              0.709223 |                     0.12 |                     1    |                 0.668548 |                   541 |                            93 |\n",
            "+-------------+--------+-------------+--------------------------+----------------------------+--------------------------+--------------------------+----------------------------+----------------------------+-----------------------+-----------------------+-----------------------+--------------------------+--------------------------+--------------------------+-----------------------+-------------------------------+\n",
            "|          17 |      1 | support     |                  3.93333 |                    205.636 |                        2 |                        6 |                        126 |                        310 |                  0.45 |                     1 |              0.727315 |                     0.09 |                     0.91 |                 0.450901 |                    31 |                             3 |\n",
            "+-------------+--------+-------------+--------------------------+----------------------------+--------------------------+--------------------------+----------------------------+----------------------------+-----------------------+-----------------------+-----------------------+--------------------------+--------------------------+--------------------------+-----------------------+-------------------------------+\n",
            "|          18 |      0 | support     |                  3.21386 |                    199.141 |                        2 |                       10 |                         96 |                        287 |                  0.36 |                     1 |              0.721714 |                     0.12 |                     1    |                 0.673799 |                   314 |                            17 |\n",
            "+-------------+--------+-------------+--------------------------+----------------------------+--------------------------+--------------------------+----------------------------+----------------------------+-----------------------+-----------------------+-----------------------+--------------------------+--------------------------+--------------------------+-----------------------+-------------------------------+\n",
            "|          19 |      0 | technical   |                  3.22244 |                    198.471 |                        2 |                       10 |                         97 |                        287 |                  0.36 |                     1 |              0.716609 |                     0.12 |                     1    |                 0.668319 |                   348 |                            25 |\n",
            "+-------------+--------+-------------+--------------------------+----------------------------+--------------------------+--------------------------+----------------------------+----------------------------+-----------------------+-----------------------+-----------------------+--------------------------+--------------------------+--------------------------+-----------------------+-------------------------------+\n",
            "|          20 |      1 | technical   |                  3.95983 |                    214.184 |                        2 |                        6 |                        126 |                        310 |                  0.45 |                     1 |              0.734132 |                     0.09 |                     0.92 |                 0.432525 |                    33 |                             3 |\n",
            "+-------------+--------+-------------+--------------------------+----------------------------+--------------------------+--------------------------+----------------------------+----------------------------+-----------------------+-----------------------+-----------------------+--------------------------+--------------------------+--------------------------+-----------------------+-------------------------------+\n"
          ]
        }
      ]
    },
    {
      "cell_type": "code",
      "source": [
        "import matplotlib.pyplot as plt\n",
        "import seaborn as sns\n",
        "\n",
        "# Ensure avg_time_hours_sorted DataFrame has the required columns: 'sales', 'avg_time_spend_company', 'left'\n",
        "\n",
        "# Create the grouped bar chart\n",
        "plt.figure(figsize=(14, 8))\n",
        "sns.barplot(x='sales', y='avg_time_spend_company', hue='left', data=avg_time_hours_sorted)\n",
        "\n",
        "# Set labels and title\n",
        "plt.xlabel('Department')\n",
        "plt.ylabel('Average Time Spent in Company')\n",
        "plt.title('Average Time Spent in Company by Department (Left vs Not Left)')\n",
        "\n",
        "# Rotate x-axis labels for better readability\n",
        "plt.xticks(rotation=45)\n",
        "\n",
        "# Add legend\n",
        "plt.legend(title='Left')\n",
        "\n",
        "# Display the plot\n",
        "plt.show()"
      ],
      "metadata": {
        "colab": {
          "base_uri": "https://localhost:8080/",
          "height": 1000
        },
        "id": "36Oo2huLYUh-",
        "outputId": "87655231-dd6e-46fa-f8c1-24bc7e2edef6"
      },
      "execution_count": null,
      "outputs": [
        {
          "output_type": "execute_result",
          "data": {
            "text/plain": [
              "<Figure size 1400x800 with 0 Axes>"
            ]
          },
          "metadata": {},
          "execution_count": 9
        },
        {
          "output_type": "execute_result",
          "data": {
            "text/plain": [
              "<Axes: xlabel='sales', ylabel='avg_time_spend_company'>"
            ]
          },
          "metadata": {},
          "execution_count": 9
        },
        {
          "output_type": "execute_result",
          "data": {
            "text/plain": [
              "Text(0.5, 0, 'Department')"
            ]
          },
          "metadata": {},
          "execution_count": 9
        },
        {
          "output_type": "execute_result",
          "data": {
            "text/plain": [
              "Text(0, 0.5, 'Average Time Spent in Company')"
            ]
          },
          "metadata": {},
          "execution_count": 9
        },
        {
          "output_type": "execute_result",
          "data": {
            "text/plain": [
              "Text(0.5, 1.0, 'Average Time Spent in Company by Department (Left vs Not Left)')"
            ]
          },
          "metadata": {},
          "execution_count": 9
        },
        {
          "output_type": "execute_result",
          "data": {
            "text/plain": [
              "([0, 1, 2, 3, 4, 5, 6, 7, 8, 9],\n",
              " [Text(0, 0, 'IT'),\n",
              "  Text(1, 0, 'RandD'),\n",
              "  Text(2, 0, 'accounting'),\n",
              "  Text(3, 0, 'hr'),\n",
              "  Text(4, 0, 'management'),\n",
              "  Text(5, 0, 'marketing'),\n",
              "  Text(6, 0, 'product_mng'),\n",
              "  Text(7, 0, 'sales'),\n",
              "  Text(8, 0, 'support'),\n",
              "  Text(9, 0, 'technical')])"
            ]
          },
          "metadata": {},
          "execution_count": 9
        },
        {
          "output_type": "execute_result",
          "data": {
            "text/plain": [
              "<matplotlib.legend.Legend at 0x7b81327cb310>"
            ]
          },
          "metadata": {},
          "execution_count": 9
        },
        {
          "output_type": "display_data",
          "data": {
            "text/plain": [
              "<Figure size 1400x800 with 1 Axes>"
            ],
            "image/png": "[encoded data removed]"
          },
          "metadata": {}
        }
      ]
    },
    {
      "cell_type": "code",
      "source": [
        "import seaborn as sns\n",
        "import matplotlib.pyplot as plt\n",
        "import pandas as pd\n",
        "\n",
        "avg_time_hours = df.groupby([\"left\", \"sales\"]).agg(\n",
        "    avg_time_spend_company=(\"time_spend_company\", \"mean\"),\n",
        "    avg_average_montly_hours=(\"average_montly_hours\", \"mean\")\n",
        ").reset_index()\n",
        "\n",
        "# Pivot table for heatmap\n",
        "heatmap_data = avg_time_hours.pivot(index='sales', columns='left', values=['avg_time_spend_company', 'avg_average_montly_hours'])\n",
        "\n",
        "# Plot heatmap\n",
        "plt.figure(figsize=(12, 8))\n",
        "\n",
        "# Plot avg_time_spend_company\n",
        "plt.subplot(1, 2, 1)\n",
        "sns.heatmap(heatmap_data['avg_time_spend_company'], annot=True, cmap='coolwarm', fmt=\".1f\", linewidths=0.5)\n",
        "plt.title('Average Time Spent in Company')\n",
        "plt.xlabel('Left')\n",
        "plt.ylabel('Department')\n",
        "\n",
        "# Plot avg_average_montly_hours\n",
        "plt.subplot(1, 2, 2)\n",
        "sns.heatmap(heatmap_data['avg_average_montly_hours'], annot=True, cmap='coolwarm', fmt=\".1f\", linewidths=0.5)\n",
        "plt.title('Average Monthly Hours')\n",
        "plt.xlabel('Left')\n",
        "plt.ylabel('Department')\n",
        "\n",
        "plt.tight_layout()\n",
        "plt.show()"
      ],
      "metadata": {
        "colab": {
          "base_uri": "https://localhost:8080/",
          "height": 947
        },
        "id": "ZozkJXQHYYcV",
        "outputId": "10c564df-eac5-457f-ea2a-2118c9f26ab5"
      },
      "execution_count": null,
      "outputs": [
        {
          "output_type": "execute_result",
          "data": {
            "text/plain": [
              "<Figure size 1200x800 with 0 Axes>"
            ]
          },
          "metadata": {},
          "execution_count": 10
        },
        {
          "output_type": "execute_result",
          "data": {
            "text/plain": [
              "<Axes: >"
            ]
          },
          "metadata": {},
          "execution_count": 10
        },
        {
          "output_type": "execute_result",
          "data": {
            "text/plain": [
              "<Axes: xlabel='left', ylabel='sales'>"
            ]
          },
          "metadata": {},
          "execution_count": 10
        },
        {
          "output_type": "execute_result",
          "data": {
            "text/plain": [
              "Text(0.5, 1.0, 'Average Time Spent in Company')"
            ]
          },
          "metadata": {},
          "execution_count": 10
        },
        {
          "output_type": "execute_result",
          "data": {
            "text/plain": [
              "Text(0.5, 58.7222222222222, 'Left')"
            ]
          },
          "metadata": {},
          "execution_count": 10
        },
        {
          "output_type": "execute_result",
          "data": {
            "text/plain": [
              "Text(120.58159722222221, 0.5, 'Department')"
            ]
          },
          "metadata": {},
          "execution_count": 10
        },
        {
          "output_type": "execute_result",
          "data": {
            "text/plain": [
              "<Axes: >"
            ]
          },
          "metadata": {},
          "execution_count": 10
        },
        {
          "output_type": "execute_result",
          "data": {
            "text/plain": [
              "<Axes: xlabel='left', ylabel='sales'>"
            ]
          },
          "metadata": {},
          "execution_count": 10
        },
        {
          "output_type": "execute_result",
          "data": {
            "text/plain": [
              "Text(0.5, 1.0, 'Average Monthly Hours')"
            ]
          },
          "metadata": {},
          "execution_count": 10
        },
        {
          "output_type": "execute_result",
          "data": {
            "text/plain": [
              "Text(0.5, 58.7222222222222, 'Left')"
            ]
          },
          "metadata": {},
          "execution_count": 10
        },
        {
          "output_type": "execute_result",
          "data": {
            "text/plain": [
              "Text(627.8543244949494, 0.5, 'Department')"
            ]
          },
          "metadata": {},
          "execution_count": 10
        },
        {
          "output_type": "display_data",
          "data": {
            "text/plain": [
              "<Figure size 1200x800 with 4 Axes>"
            ],
            "image/png": "[encoded data removed]"
          },
          "metadata": {}
        }
      ]
    }
  ]
}